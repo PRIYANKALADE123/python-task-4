{
 "cells": [
  {
   "cell_type": "markdown",
   "id": "5904d696-9dd4-481f-8932-766cb8a67fef",
   "metadata": {},
   "source": [
    "## Python Dictionary methods"
   ]
  },
  {
   "cell_type": "markdown",
   "id": "bd0a159c-24a9-4675-86a0-3b35324e2ff9",
   "metadata": {},
   "source": [
    "####   1) Dictionary clear() Method:\n",
    "\n"
   ]
  },
  {
   "cell_type": "markdown",
   "id": "4148fc9d-9088-40f0-93c1-8943f74e00e0",
   "metadata": {},
   "source": [
    "* remove all the data"
   ]
  },
  {
   "cell_type": "code",
   "execution_count": 4,
   "id": "60d87038-49d5-45a0-a2e3-2e914fa2017f",
   "metadata": {},
   "outputs": [
    {
     "name": "stdout",
     "output_type": "stream",
     "text": [
      "set()\n"
     ]
    }
   ],
   "source": [
    "fruits = {\n",
    "    \" apple'\", \"orange\", \"melon\", \"cherry\", \"kiwi\"\n",
    "}\n",
    "fruits.clear()\n",
    "\n",
    "print(fruits)\n",
    "\n",
    "    "
   ]
  },
  {
   "cell_type": "code",
   "execution_count": null,
   "id": "d409e804-6984-4db7-8318-c082de474d15",
   "metadata": {},
   "outputs": [],
   "source": []
  },
  {
   "cell_type": "code",
   "execution_count": 5,
   "id": "7f4a26b1-e567-4a99-8a0d-cad0fe58b247",
   "metadata": {},
   "outputs": [
    {
     "name": "stdout",
     "output_type": "stream",
     "text": [
      "{}\n"
     ]
    }
   ],
   "source": [
    "car =\t{\n",
    "  \"brand\": \"Ford\",\n",
    "  \"model\": \"Mustang\",\n",
    "  \"year\": 1964\n",
    "}\n",
    "\n",
    "car.clear()\n",
    "\n",
    "print(car)\n"
   ]
  },
  {
   "cell_type": "markdown",
   "id": "14890ab4-58fa-4a24-90b9-36425ccad415",
   "metadata": {},
   "source": [
    "### 2) Dictionary copy() Method :"
   ]
  },
  {
   "cell_type": "markdown",
   "id": "f9a6550b-e0ab-4107-af4a-970d270cb01d",
   "metadata": {},
   "source": [
    "* Copy the dictionary"
   ]
  },
  {
   "cell_type": "code",
   "execution_count": 6,
   "id": "94c31cb7-34cb-4358-b2c4-b3328a7680f4",
   "metadata": {},
   "outputs": [
    {
     "name": "stdout",
     "output_type": "stream",
     "text": [
      "{'orange', 'kiwi', 'cherry', 'melon', \" apple'\"}\n"
     ]
    }
   ],
   "source": [
    "fruits = {\n",
    "    \" apple'\", \"orange\", \"melon\", \"cherry\", \"kiwi\"\n",
    "}\n",
    "fruits.copy()\n",
    "\n",
    "print(fruits)\n"
   ]
  },
  {
   "cell_type": "markdown",
   "id": "cbf729b2-5cc5-4383-9942-ac6effd5ecf4",
   "metadata": {},
   "source": [
    "#### 3) Python Dictionary fromkeys() Method : Create a dictionary with 3 keys, all with the value 0:\n",
    "\n",
    "\n",
    "\n"
   ]
  },
  {
   "cell_type": "code",
   "execution_count": 1,
   "id": "b9797ae2-b226-4e56-9a11-f8f3f301a582",
   "metadata": {},
   "outputs": [
    {
     "name": "stdout",
     "output_type": "stream",
     "text": [
      "{'apple': 2, 'kiwi': 2, 'grapes': 2}\n"
     ]
    }
   ],
   "source": [
    "a = ('apple', 'kiwi', 'grapes')\n",
    "b = 2\n",
    "thisdict = dict.fromkeys(a, b)\n",
    "print(thisdict)\n",
    "\n"
   ]
  },
  {
   "cell_type": "markdown",
   "id": "529e315b-b164-49f3-9410-c3f74b3f9ac3",
   "metadata": {},
   "source": [
    "#### 4) Python Dictionary get() Method : Get the value of the \"email\" item:\n",
    "\n",
    "\n",
    "\n"
   ]
  },
  {
   "cell_type": "code",
   "execution_count": 13,
   "id": "8b0439b5-b4b8-4292-8c10-833528e06347",
   "metadata": {},
   "outputs": [
    {
     "name": "stdout",
     "output_type": "stream",
     "text": [
      "bhalerao.99@gmail.com\n"
     ]
    }
   ],
   "source": [
    "student = {\n",
    "  \"name\": \"bhalerao\",\n",
    "  \"email\": \"bhalerao.99@gmail.com\",\n",
    "  \"year\": 1964\n",
    "}\n",
    "\n",
    "x = student.get(\"email\")\n",
    "\n",
    "print(x)"
   ]
  },
  {
   "cell_type": "markdown",
   "id": "ec81b78d-7a0a-4d8a-b8f9-19f5e726a9c6",
   "metadata": {},
   "source": [
    "#### 5) Python Dictionary items() Method : Return the dictionary's key-value pairs"
   ]
  },
  {
   "cell_type": "code",
   "execution_count": 14,
   "id": "4f67426e-0f99-47f5-94c5-c5feb76d0c23",
   "metadata": {},
   "outputs": [
    {
     "name": "stdout",
     "output_type": "stream",
     "text": [
      "dict_items([('name', 'bhalerao'), ('email', 'bhalerao.99@gmail.com'), ('year', 2018)])\n"
     ]
    }
   ],
   "source": [
    "student = {\n",
    "  \"name\": \"bhalerao\",\n",
    "  \"email\": \"bhalerao.99@gmail.com\",\n",
    "  \"year\": 1964\n",
    "}\n",
    "x = student.items()\n",
    "student[\"year\"] = 2018\n",
    "\n",
    "print(x)\n"
   ]
  },
  {
   "cell_type": "markdown",
   "id": "3f668f8a-93cc-429c-84ca-3034cd9a91e2",
   "metadata": {},
   "source": [
    "#### 6) Python Dictionary keys() Method : Return the keys"
   ]
  },
  {
   "cell_type": "code",
   "execution_count": 15,
   "id": "2c506d0c-a830-443e-97ff-db245f1f9161",
   "metadata": {},
   "outputs": [
    {
     "name": "stdout",
     "output_type": "stream",
     "text": [
      "dict_keys(['name', 'email', 'year', 'qualification'])\n"
     ]
    }
   ],
   "source": [
    "student = {\n",
    "  \"name\": \"bhalerao\",\n",
    "  \"email\": \"bhalerao.99@gmail.com\",\n",
    "  \"year\": 1964\n",
    "}\n",
    "x = student.keys()\n",
    "\n",
    "student[\"qualification\"] = \"engineer\"\n",
    "\n",
    "print(x)\n"
   ]
  },
  {
   "cell_type": "markdown",
   "id": "080712e9-66b2-4373-b885-2f2574d39a5b",
   "metadata": {},
   "source": [
    "#### 7) Python Dictionary pop() Method :"
   ]
  },
  {
   "cell_type": "code",
   "execution_count": 19,
   "id": "f170e7e8-3e74-4186-8ea8-1aeb96ce3800",
   "metadata": {},
   "outputs": [
    {
     "name": "stdout",
     "output_type": "stream",
     "text": [
      "('year', 1964)\n"
     ]
    }
   ],
   "source": [
    "student = {\n",
    "  \"name\": \"bhalerao\",\n",
    "  \"email\": \"bhalerao.99@gmail.com\",\n",
    "  \"year\": 1964\n",
    "}\n",
    "\n",
    "x = student.popitem()\n",
    "\n",
    "print(x)"
   ]
  },
  {
   "cell_type": "markdown",
   "id": "c6afa09e-36e7-44ea-bda0-2ee958ce4a36",
   "metadata": {},
   "source": [
    "#### 8) Python Dictionary setdefault() Method"
   ]
  },
  {
   "cell_type": "code",
   "execution_count": 20,
   "id": "90330fef-2ed6-4019-b788-e0a555f34e78",
   "metadata": {},
   "outputs": [
    {
     "name": "stdout",
     "output_type": "stream",
     "text": [
      "engineer\n"
     ]
    }
   ],
   "source": [
    "student = {\n",
    "  \"name\": \"bhalerao\",\n",
    "  \"email\": \"bhalerao.99@gmail.com\",\n",
    "  \"year\": 1964\n",
    "}\n",
    "x = student.setdefault(\"qualification\", \"engineer\")\n",
    "\n",
    "print(x)\n"
   ]
  },
  {
   "cell_type": "markdown",
   "id": "203c7f81-9fd4-45ec-b159-7393b6d91e18",
   "metadata": {},
   "source": [
    "#### 9) Python Dictionary update() Method:"
   ]
  },
  {
   "cell_type": "code",
   "execution_count": 21,
   "id": "4ec6cb57-d18f-4351-8cac-5c85ce813bf8",
   "metadata": {},
   "outputs": [
    {
     "name": "stdout",
     "output_type": "stream",
     "text": [
      "{'name': 'bhalerao', 'email': 'bhalerao.99@gmail.com', 'year': 1964, 'qualification': 'engineer'}\n"
     ]
    }
   ],
   "source": [
    "student = {\n",
    "  \"name\": \"bhalerao\",\n",
    "  \"email\": \"bhalerao.99@gmail.com\",\n",
    "  \"year\": 1964\n",
    "}\n",
    "student.update({\"qualification\": \"engineer\"})\n",
    "print(student)"
   ]
  },
  {
   "cell_type": "markdown",
   "id": "59b88ef7-69fd-4fe6-a671-7c655bdd87d5",
   "metadata": {},
   "source": [
    "#### 10) Python Dictionary values() Method\n",
    "\n"
   ]
  },
  {
   "cell_type": "code",
   "execution_count": 25,
   "id": "b62efeae-7330-408d-933d-bdaea3070752",
   "metadata": {},
   "outputs": [
    {
     "name": "stdout",
     "output_type": "stream",
     "text": [
      "dict_values(['bhalerao', 'bhalerao.99@gmail.com', 1964])\n"
     ]
    }
   ],
   "source": [
    "student = {\n",
    "  \"name\": \"bhalerao\",\n",
    "  \"email\": \"bhalerao.99@gmail.com\",\n",
    "  \"year\": 1964\n",
    "}\n",
    "x = student.values()\n",
    "print(x)\n"
   ]
  },
  {
   "cell_type": "code",
   "execution_count": null,
   "id": "a772067b-19b0-4455-b351-685a24f50ea2",
   "metadata": {},
   "outputs": [],
   "source": []
  },
  {
   "cell_type": "code",
   "execution_count": 24,
   "id": "b7d54366-87c6-4788-ba98-285b3dd64c64",
   "metadata": {},
   "outputs": [
    {
     "name": "stdout",
     "output_type": "stream",
     "text": [
      "dict_values(['bhalerao', 'bhalerao.99@gmail.com', 2018])\n"
     ]
    }
   ],
   "source": [
    "student = {\n",
    "  \"name\": \"bhalerao\",\n",
    "  \"email\": \"bhalerao.99@gmail.com\",\n",
    "  \"year\": 1964\n",
    "}\n",
    "x = student.values()\n",
    "student[\"year\"] = 2018\n",
    "\n",
    "print(x)\n"
   ]
  },
  {
   "cell_type": "code",
   "execution_count": null,
   "id": "5a8df584-ed6e-4cfd-9998-a5f35bbe2263",
   "metadata": {},
   "outputs": [],
   "source": []
  }
 ],
 "metadata": {
  "kernelspec": {
   "display_name": "Python 3 (ipykernel)",
   "language": "python",
   "name": "python3"
  },
  "language_info": {
   "codemirror_mode": {
    "name": "ipython",
    "version": 3
   },
   "file_extension": ".py",
   "mimetype": "text/x-python",
   "name": "python",
   "nbconvert_exporter": "python",
   "pygments_lexer": "ipython3",
   "version": "3.12.4"
  }
 },
 "nbformat": 4,
 "nbformat_minor": 5
}
