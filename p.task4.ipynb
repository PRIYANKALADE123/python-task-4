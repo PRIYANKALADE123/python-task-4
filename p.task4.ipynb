{
 "cells": [
  {
   "cell_type": "markdown",
   "id": "af689da5-1e77-41a7-8865-c8ad17fe1b02",
   "metadata": {},
   "source": [
    "## Examples of if/else statement:"
   ]
  },
  {
   "cell_type": "code",
   "execution_count": 1,
   "id": "62a2c788-1af8-4a91-864c-164286dfc8f7",
   "metadata": {},
   "outputs": [
    {
     "name": "stdout",
     "output_type": "stream",
     "text": [
      "You can buy alcohol.\n"
     ]
    }
   ],
   "source": [
    "age = 22\n",
    "\n",
    "if age >= 21:\n",
    "    print(\"You can buy alcohol.\")\n",
    "else:\n",
    "    print(\"You cannot buy alcohol.\")\n"
   ]
  },
  {
   "cell_type": "code",
   "execution_count": null,
   "id": "455e33bb-9094-404a-a37d-d4921b332770",
   "metadata": {},
   "outputs": [],
   "source": []
  },
  {
   "cell_type": "code",
   "execution_count": 2,
   "id": "03e0edd2-8cca-4653-92f2-bad655b78f55",
   "metadata": {},
   "outputs": [
    {
     "name": "stdout",
     "output_type": "stream",
     "text": [
      "You are a teenager.\n"
     ]
    }
   ],
   "source": [
    "age = 16\n",
    "\n",
    "if 13 <= age <= 19:\n",
    "    print(\"You are a teenager.\")\n",
    "else:\n",
    "    print(\"You are adult.\")\n"
   ]
  },
  {
   "cell_type": "code",
   "execution_count": null,
   "id": "a0e2b958-3f7b-4cdf-94ef-c9b424fd3848",
   "metadata": {},
   "outputs": [],
   "source": []
  },
  {
   "cell_type": "code",
   "execution_count": 3,
   "id": "a182465e-adfb-4c04-9ea8-f2aa0df1b3b0",
   "metadata": {},
   "outputs": [
    {
     "name": "stdout",
     "output_type": "stream",
     "text": [
      "The number is outside the range 10 to 30.\n"
     ]
    }
   ],
   "source": [
    "number = 35\n",
    "\n",
    "if 10 <= number <= 30:\n",
    "    print(\"The number is within the range 10 to 30.\")\n",
    "else:\n",
    "    print(\"The number is outside the range 10 to 30.\")\n"
   ]
  },
  {
   "cell_type": "code",
   "execution_count": null,
   "id": "592a7f7d-d77f-4eea-b0f0-592fbc27abf8",
   "metadata": {},
   "outputs": [],
   "source": []
  },
  {
   "cell_type": "code",
   "execution_count": 4,
   "id": "1c47b7e9-129c-49c2-8a1c-68af0fad5df5",
   "metadata": {},
   "outputs": [
    {
     "name": "stdout",
     "output_type": "stream",
     "text": [
      "You are eligible to vote.\n"
     ]
    }
   ],
   "source": [
    "age = 18\n",
    "if age >= 18:\n",
    "    print('You are eligible to vote.')\n",
    "else:\n",
    "    print('You are not eligible to vote.')\n"
   ]
  },
  {
   "cell_type": "code",
   "execution_count": null,
   "id": "41296b89-4b7b-4fab-b3cd-8e3545eb16be",
   "metadata": {},
   "outputs": [],
   "source": []
  },
  {
   "cell_type": "code",
   "execution_count": 5,
   "id": "d6efb5a7-c1be-403c-ac09-8297a53b12f3",
   "metadata": {},
   "outputs": [
    {
     "name": "stdout",
     "output_type": "stream",
     "text": [
      "The number is even.\n"
     ]
    }
   ],
   "source": [
    "number = 8\n",
    "\n",
    "if number % 2 == 0:\n",
    "    print(\"The number is even.\")\n",
    "else:\n",
    "    print(\"The number is odd.\")\n"
   ]
  },
  {
   "cell_type": "code",
   "execution_count": null,
   "id": "cd5dea47-8536-489c-8b0d-7d032f998601",
   "metadata": {},
   "outputs": [],
   "source": []
  },
  {
   "cell_type": "code",
   "execution_count": 8,
   "id": "77fb16a6-fc7a-482c-a052-a9434ed59cc4",
   "metadata": {},
   "outputs": [
    {
     "name": "stdout",
     "output_type": "stream",
     "text": [
      "The number is not a multiple of 7.\n"
     ]
    }
   ],
   "source": [
    "number = 58\n",
    "\n",
    "if number % 7 == 0:\n",
    "    print(\"The number is a multiple of 7.\")\n",
    "else:\n",
    "    print(\"The number is not a multiple of 7.\")\n"
   ]
  },
  {
   "cell_type": "code",
   "execution_count": null,
   "id": "2ec25266-81ec-46c9-8a5e-f5e22b924165",
   "metadata": {},
   "outputs": [],
   "source": []
  },
  {
   "cell_type": "code",
   "execution_count": 11,
   "id": "1c56b5cf-9c6c-47f3-b7b1-50cf84808684",
   "metadata": {},
   "outputs": [
    {
     "name": "stdout",
     "output_type": "stream",
     "text": [
      "The number is in the set.\n"
     ]
    }
   ],
   "source": [
    "number = 8\n",
    "\n",
    "if number in {1, 2, 3, 8, 10}:\n",
    "    print(\"The number is in the set.\")\n",
    "else:\n",
    "    print(\"The number is not in the set.\")\n"
   ]
  },
  {
   "cell_type": "code",
   "execution_count": null,
   "id": "063a062b-a6aa-479e-8b25-eccc9a57aba5",
   "metadata": {},
   "outputs": [],
   "source": []
  },
  {
   "cell_type": "code",
   "execution_count": 12,
   "id": "db88eeba-f830-473f-af2c-04da79bc7b00",
   "metadata": {},
   "outputs": [
    {
     "name": "stdout",
     "output_type": "stream",
     "text": [
      "The number is odd.\n"
     ]
    }
   ],
   "source": [
    "number = 15\n",
    "\n",
    "if number % 2 != 0:\n",
    "    print(\"The number is odd.\")\n",
    "else:\n",
    "    print(\"The number is even.\")\n"
   ]
  },
  {
   "cell_type": "code",
   "execution_count": null,
   "id": "57c3d871-f22d-4a07-89cc-b2dbcfdc574b",
   "metadata": {},
   "outputs": [],
   "source": []
  },
  {
   "cell_type": "code",
   "execution_count": 13,
   "id": "87cfaede-1e51-4dce-a09a-f4348c05af75",
   "metadata": {},
   "outputs": [
    {
     "name": "stdout",
     "output_type": "stream",
     "text": [
      "The string contains the word 'Python'.\n"
     ]
    }
   ],
   "source": [
    "text = \"I love Python programming.\"\n",
    "\n",
    "if \"Python\" in text:\n",
    "    print(\"The string contains the word 'Python'.\")\n",
    "else:\n",
    "    print(\"The string does not contain the word 'Python'.\")\n"
   ]
  },
  {
   "cell_type": "code",
   "execution_count": null,
   "id": "73f5d6a6-1497-4a97-a79d-bca223cf264a",
   "metadata": {},
   "outputs": [],
   "source": []
  },
  {
   "cell_type": "code",
   "execution_count": 17,
   "id": "cd0e73e9-6c27-48a3-be42-2e73df06259a",
   "metadata": {},
   "outputs": [
    {
     "name": "stdout",
     "output_type": "stream",
     "text": [
      "The number is negative.\n"
     ]
    }
   ],
   "source": [
    "number = -5\n",
    "\n",
    "if number > 0:\n",
    "    print(\"The number is positive.\")\n",
    "else:\n",
    "    print(\"The number is negative.\")\n"
   ]
  },
  {
   "cell_type": "code",
   "execution_count": null,
   "id": "572a1bc9-2d6f-4b9c-977b-a5aa9d0b38ea",
   "metadata": {},
   "outputs": [],
   "source": []
  },
  {
   "cell_type": "code",
   "execution_count": null,
   "id": "024e0d4d-c403-46e6-a397-5fe2a7e905b2",
   "metadata": {},
   "outputs": [],
   "source": []
  }
 ],
 "metadata": {
  "kernelspec": {
   "display_name": "Python 3 (ipykernel)",
   "language": "python",
   "name": "python3"
  },
  "language_info": {
   "codemirror_mode": {
    "name": "ipython",
    "version": 3
   },
   "file_extension": ".py",
   "mimetype": "text/x-python",
   "name": "python",
   "nbconvert_exporter": "python",
   "pygments_lexer": "ipython3",
   "version": "3.12.4"
  }
 },
 "nbformat": 4,
 "nbformat_minor": 5
}
